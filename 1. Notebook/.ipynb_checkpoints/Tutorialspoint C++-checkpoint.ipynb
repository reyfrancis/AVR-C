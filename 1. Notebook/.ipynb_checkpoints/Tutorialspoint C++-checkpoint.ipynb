{
 "cells": [
  {
   "cell_type": "markdown",
   "metadata": {},
   "source": [
    "# C++\n",
    "\n",
    "A compilation of C++ codes\n",
    "\n",
    "This notebook is from [Tutorialspoint C++ tutorial](https://www.tutorialspoint.com/cplusplus/). This was transferred to Jupyters notebook for the author's convenience."
   ]
  },
  {
   "cell_type": "markdown",
   "metadata": {},
   "source": [
    "                                    <intentional space> "
   ]
  },
  {
   "cell_type": "markdown",
   "metadata": {},
   "source": [
    "### History\n",
    "C++ is a middle-level programming language developed by Bjarne Stroustrup starting in 1979 at Bell Labs. C++ runs on a variety of platforms, such as Windows, Mac OS, and the various versions of UNIX. This tutorial adopts a simple and practical approach to describe the concepts of C++."
   ]
  },
  {
   "cell_type": "markdown",
   "metadata": {},
   "source": [
    "                                    <intentional space> "
   ]
  },
  {
   "cell_type": "markdown",
   "metadata": {},
   "source": [
    "### Overview\n",
    "* C++ is a statically typed, compiled, general-purpose, case-sensitive, free-form programming language that supports procedural, object-oriented, and generic programming.\n",
    "\n",
    "* C++ is regarded as a middle-level language, as it comprises a combination of both high-level and low-level language features.\n",
    "\n",
    "* C++ was developed by Bjarne Stroustrup starting in 1979 at Bell Labs in Murray Hill, New Jersey, as an enhancement to the C language and originally named C with Classes but later it was renamed C++ in 1983.\n",
    "\n",
    "* C++ is a superset of C, and that virtually any legal C program is a legal C++ program.\n",
    "\n",
    "Note − A programming language is said to use static typing when type checking is performed during compile-time as opposed to run-time."
   ]
  },
  {
   "cell_type": "markdown",
   "metadata": {},
   "source": [
    "                                    <intentional space> "
   ]
  },
  {
   "cell_type": "markdown",
   "metadata": {},
   "source": [
    "### Four Pillars of Object Oriented Programming in C++\n",
    "* Encapsulation\n",
    "* Data hiding\n",
    "* Inheritance\n",
    "* Polymorphism"
   ]
  },
  {
   "cell_type": "markdown",
   "metadata": {},
   "source": [
    "                                    <intentional space> "
   ]
  },
  {
   "cell_type": "markdown",
   "metadata": {},
   "source": [
    "### Standard Library\n",
    "* The core language giving all the building blocks including variables, data types and literals, etc.\n",
    "* The C++ Standard Library giving a rich set of functions manipulating files, strings, etc.\n",
    "* The Standard Template Library (STL) giving a rich set of methods manipulating data structures, etc."
   ]
  },
  {
   "cell_type": "markdown",
   "metadata": {},
   "source": [
    "                                    <intentional space> "
   ]
  },
  {
   "cell_type": "markdown",
   "metadata": {},
   "source": [
    "### Use of C++\n",
    "* C++ is used by hundreds of thousands of programmers in essentially every application domain.\n",
    "* C++ is being highly used to write device drivers and other software that rely on direct manipulation of hardware under realtime constraints.\n",
    "* C++ is widely used for teaching and research because it is clean enough for successful teaching of basic concepts.\n",
    "* Anyone who has used either an Apple Macintosh or a PC running Windows has indirectly used C++ because the primary user interfaces of these systems are written in C++."
   ]
  },
  {
   "cell_type": "markdown",
   "metadata": {},
   "source": [
    "                                    <intentional space> "
   ]
  },
  {
   "cell_type": "markdown",
   "metadata": {},
   "source": [
    "### Syntax\n",
    "When we consider a C++ program, it can be defined as a collection of objects that communicate via invoking each other's methods. Let us now briefly look into what a class, object, methods, and instant variables mean.\n",
    "\n",
    "* Object − Objects have states and behaviors. Example: A dog has states - color, name, breed as well as behaviors - wagging, barking, eating. An object is an instance of a class.\n",
    "* Class − A class can be defined as a template/blueprint that describes the behaviors/states that object of its type support.\n",
    "* Methods − A method is basically a behavior. A class can contain many methods. It is in methods where the logics are written, data is manipulated and all the actions are executed.\n",
    "* Instance Variables − Each object has its unique set of instance variables. An object's state is created by the values assigned to these instance variables."
   ]
  },
  {
   "cell_type": "markdown",
   "metadata": {},
   "source": [
    "                                    <intentional space> "
   ]
  },
  {
   "cell_type": "markdown",
   "metadata": {},
   "source": [
    "### Hello World!"
   ]
  },
  {
   "cell_type": "raw",
   "metadata": {
    "scrolled": true
   },
   "source": [
    "#include <iostream>\n",
    "\n",
    "int foo() { \n",
    "    std::cout << \"Hello World\" <<std::endl; // prints Hello World\n",
    "    return 0;\n",
    "}\n",
    "\n",
    "foo();"
   ]
  },
  {
   "cell_type": "markdown",
   "metadata": {},
   "source": [
    "Let us look at the various parts of the above program −\n",
    "* The C++ language defines several headers, which contain information that is either necessary or useful to your program. For this program, the header <iostream> is needed.\n",
    "* The line using namespace std; tells the compiler to use the std namespace. Namespaces are a relatively recent addition to C++.\n",
    "* The next line '// main() is where program execution begins.' is a single-line comment available in C++. Single-line comments begin with // and stop at the end of the line.\n",
    "* The line int main() is the main function where program execution begins.\n",
    "* The next line cout << \"Hello World\"; causes the message \"Hello World\" to be displayed on the screen.\n",
    "* The next line return 0; terminates main( )function and causes it to return the value 0 to the calling process."
   ]
  },
  {
   "cell_type": "markdown",
   "metadata": {},
   "source": [
    "                                    <intentional space> "
   ]
  },
  {
   "cell_type": "markdown",
   "metadata": {},
   "source": [
    "### Semicolons and Blocks\n",
    "\n",
    "In C++, the semicolon is a statement terminator. That is, each individual statement must be ended with a semicolon. It indicates the end of one logical entity."
   ]
  },
  {
   "cell_type": "raw",
   "metadata": {},
   "source": [
    "x = y;\n",
    "y = y + 1;\n",
    "add(x, y);"
   ]
  },
  {
   "cell_type": "markdown",
   "metadata": {},
   "source": [
    "is the same as"
   ]
  },
  {
   "cell_type": "raw",
   "metadata": {},
   "source": [
    "x = y; y = y + 1; add(x, y);"
   ]
  },
  {
   "cell_type": "markdown",
   "metadata": {},
   "source": [
    "                                    <intentional space> "
   ]
  },
  {
   "cell_type": "markdown",
   "metadata": {},
   "source": [
    "### Identifiers\n",
    "\n",
    "A C++ identifier is a name used to identify a variable, function, class, module, or any other user-defined item. An identifier starts with a letter A to Z or a to z or an underscore (_) followed by zero or more letters, underscores, and digits (0 to 9).\n",
    "\n",
    "C++ does not allow punctuation characters such as @, $, and % within identifiers. C++ is a case-sensitive programming language. Thus, Manpower and manpower are two different identifiers in C++.\n",
    "\n",
    "Here are some examples of acceptable identifiers −"
   ]
  },
  {
   "cell_type": "raw",
   "metadata": {},
   "source": [
    "mohd       zara    abc   move_name  a_123\n",
    "myname50   _temp   j     a23b9      retVal"
   ]
  },
  {
   "cell_type": "markdown",
   "metadata": {},
   "source": [
    "                                    <intentional space> "
   ]
  },
  {
   "cell_type": "markdown",
   "metadata": {},
   "source": [
    "### Comments\n",
    "\n",
    "Program comments are explanatory statements that you can include in the C++ code. These comments help anyone reading the source code. All programming languages allow for some form of comments.\n",
    "\n",
    "C++ supports single-line and multi-line comments. All characters available inside any comment are ignored by C++ compiler. C++ comments start with /* and end with */. For example −"
   ]
  },
  {
   "cell_type": "raw",
   "metadata": {},
   "source": [
    "/* This is a comment */\n",
    "\n",
    "/* C++ comments can also\n",
    "   * span multiple lines\n",
    "*/"
   ]
  },
  {
   "cell_type": "markdown",
   "metadata": {},
   "source": [
    "                                    <intentional space> "
   ]
  },
  {
   "attachments": {
    "Table1.png": {
     "image/png": "[encoded data removed]"
    }
   },
   "cell_type": "markdown",
   "metadata": {},
   "source": [
    "### Variables\n",
    "\n",
    "While writing program in any language, we need to use various variables to store various information. Variables are nothing but reserved memory locations to store values. This means that when we create a variable we reserve some space in memory.\n",
    "\n",
    "We may like to store information of various data types like character, wide character, integer, floating point, double floating point, boolean etc. Based on the data type of a variable, the operating system allocates memory and decides what can be stored in the reserved memory.\n",
    "\n",
    "A variable provides us with named storage that our programs can manipulate. Each variable in C++ has a specific type, which determines the size and layout of the variable's memory; the range of values that can be stored within that memory; and the set of operations that can be applied to the variable\n",
    "\n",
    "##### Variable Types\n",
    "\n",
    "* Boolean - bool\n",
    "* Character - char\n",
    "* Integer - int\n",
    "* Floating point - float\n",
    "* Double floating point - double\n",
    "* Valueless - void\n",
    "* Wide character - wchar_t\n",
    "\n",
    "Several of the basic types can be modified using one or more of these type modifiers −\n",
    "\n",
    "* signed\n",
    "* unsigned\n",
    "* short\n",
    "* long\n",
    "\n",
    "The following table shows the variable type, how much memory it takes to store the value in memory, and what is maximum and minimum value which can be stored in such type of variables.\n",
    "\n",
    "![Table1.png](attachment:Table1.png)\n",
    "\n",
    "The size of variables might be different from those shown in the above table, depending on the compiler and the computer we are using.\n",
    "\n",
    "Following is the example, which will produce correct size of various data types on our computer.\n"
   ]
  },
  {
   "cell_type": "raw",
   "metadata": {},
   "source": [
    "#include <iostream>\n",
    "\n",
    "int foo1() {\n",
    "   std::cout << \"Size of char : \" << sizeof(char) <<std::endl;\n",
    "   std::cout << \"Size of int : \" << sizeof(int) <<std::endl;\n",
    "   std::cout << \"Size of short int : \" << sizeof(short int) <<std::endl;\n",
    "   std::cout << \"Size of long int : \" << sizeof(long int) <<std::endl;\n",
    "   std::cout << \"Size of float : \" << sizeof(float) <<std::endl;\n",
    "   std::cout << \"Size of double : \" << sizeof(double) <<std::endl;\n",
    "   std::cout << \"Size of wchar_t : \" << sizeof(wchar_t) <<std::endl;\n",
    "   return 0;\n",
    "}\n",
    "\n",
    "foo1();"
   ]
  },
  {
   "cell_type": "markdown",
   "metadata": {},
   "source": [
    "##### Typedef\n",
    "\n",
    "We can also create a new name for an existing type using typedef. Following is the simple syntax to define a new type using typedef:"
   ]
  },
  {
   "cell_type": "raw",
   "metadata": {},
   "source": [
    "typedef type newname; "
   ]
  },
  {
   "cell_type": "markdown",
   "metadata": {},
   "source": [
    "For example, the following tells the compiler that feet is another name for int:"
   ]
  },
  {
   "cell_type": "raw",
   "metadata": {},
   "source": [
    "typedef int feet;"
   ]
  },
  {
   "cell_type": "markdown",
   "metadata": {},
   "source": [
    "Now, the following declaration is perfectly legal and creates an integer variable called distance"
   ]
  },
  {
   "cell_type": "raw",
   "metadata": {},
   "source": [
    "feet distance;"
   ]
  },
  {
   "attachments": {
    "Table2.png": {
     "image/png": "[encoded data removed]"
    }
   },
   "cell_type": "markdown",
   "metadata": {},
   "source": [
    "There are following basic types of variable in C++.\n",
    "\n",
    "![Table2.png](attachment:Table2.png)\n",
    "\n",
    "##### Variable Definition\n",
    "\n",
    "A variable definition tells the compiler where and how much storage to create for the variable. A variable definition specifies a data type, and contains a list of one or more variables of that type as follow:"
   ]
  },
  {
   "cell_type": "raw",
   "metadata": {},
   "source": [
    "type variable_list;"
   ]
  },
  {
   "cell_type": "raw",
   "metadata": {},
   "source": [
    "int    i, j, k;\n",
    "char   c, ch;\n",
    "float  f, salary;\n",
    "double d;"
   ]
  },
  {
   "cell_type": "markdown",
   "metadata": {},
   "source": [
    "##### Variable Initialization\n",
    "\n",
    "Variables can be initialized (assigned an initial value) in their declaration. The initializer consists of an equal sign followed by a constant expression as follows:"
   ]
  },
  {
   "cell_type": "raw",
   "metadata": {},
   "source": [
    "type variable_name = value;"
   ]
  },
  {
   "cell_type": "raw",
   "metadata": {},
   "source": [
    "char x = 'x'; // the variable x has the value 'x'."
   ]
  },
  {
   "cell_type": "markdown",
   "metadata": {},
   "source": [
    "##### Variable Declaration\n",
    "\n",
    "A variable declaration provides assurance to the compiler that there is one variable existing with the given type and name so that compiler proceed for further compilation without needing complete detail about the variable. A variable declaration has its meaning at the time of compilation only, compiler needs actual variable definition at the time of linking of the program.\n",
    "\n",
    "A variable declaration is useful when you are using multiple files and you define your variable in one of the files which will be available at the time of linking of the program. You will use extern keyword to declare a variable at any place. Though you can declare a variable multiple times in your C++ program, but it can be defined only once in a file, a function or a block of code."
   ]
  },
  {
   "cell_type": "raw",
   "metadata": {},
   "source": [
    "#include <iostream>\n",
    "using namespace std;\n",
    "\n",
    "// Variable declaration:\n",
    "extern int a, b;\n",
    "extern int c;\n",
    "extern float f;\n",
    "  \n",
    "int main () {\n",
    "   // Variable definition:\n",
    "   int a, b;\n",
    "   int c;\n",
    "   float f;\n",
    " \n",
    "   // actual initialization\n",
    "   a = 10;\n",
    "   b = 20;\n",
    "   c = a + b;\n",
    " \n",
    "   cout << c << endl ;\n",
    "\n",
    "   f = 70.0/3.0;\n",
    "   cout << f << endl ;\n",
    " \n",
    "   return 0;\n",
    "}"
   ]
  },
  {
   "cell_type": "markdown",
   "metadata": {},
   "source": [
    "Same concept applies on function declaration where you provide a function name at the time of its declaration and its actual definition can be given anywhere else. For example:"
   ]
  },
  {
   "cell_type": "raw",
   "metadata": {},
   "source": [
    "// function declaration\n",
    "int func();\n",
    "int main() {\n",
    "   // function call\n",
    "   int i = func();\n",
    "}\n",
    "\n",
    "// function definition\n",
    "int func() {\n",
    "   return 0;\n",
    "}"
   ]
  },
  {
   "cell_type": "markdown",
   "metadata": {},
   "source": [
    "##### Variable Scope\n",
    "\n",
    "A scope is a region of the program and broadly speaking there are three places, where variables can be declared:\n",
    "* Inside a function or a block which is called local variables\n",
    "* In the definition of function parameters which is called formal parameters\n",
    "* Outside of all functions which is called global variables\n",
    "\n",
    "Local variables:\n",
    "Variables that are declared inside a function or block are local variables. They can be used only by statements that are inside that function or block of code. Local variables are not known to functions outside their own. Following is the example using local variables:"
   ]
  },
  {
   "cell_type": "raw",
   "metadata": {},
   "source": [
    "#include <iostream>\n",
    "using namespace std;\n",
    " \n",
    "int main () {\n",
    "   // Local variable declaration:\n",
    "   int a, b;\n",
    "   int c;\n",
    " \n",
    "   // actual initialization\n",
    "   a = 10;\n",
    "   b = 20;\n",
    "   c = a + b;\n",
    " \n",
    "   cout << c;\n",
    " \n",
    "   return 0;\n",
    "}"
   ]
  },
  {
   "cell_type": "markdown",
   "metadata": {},
   "source": [
    "Global variables are defined outside of all the functions, usually on top of the program. The global variables will hold their value throughout the life-time of your program.\n",
    "\n",
    "A global variable can be accessed by any function. That is, a global variable is available for use throughout your entire program after its declaration. Following is the example using global and local variables:"
   ]
  },
  {
   "cell_type": "raw",
   "metadata": {},
   "source": [
    "#include <iostream>\n",
    "using namespace std;\n",
    " \n",
    "// Global variable declaration:\n",
    "int g;\n",
    " \n",
    "int main () {\n",
    "   // Local variable declaration:\n",
    "   int a, b;\n",
    " \n",
    "   // actual initialization\n",
    "   a = 10;\n",
    "   b = 20;\n",
    "   g = a + b;\n",
    "  \n",
    "   cout << g;\n",
    " \n",
    "   return 0;\n",
    "}"
   ]
  },
  {
   "cell_type": "markdown",
   "metadata": {},
   "source": [
    "A program can have same name for local and global variables but value of local variable inside a function will take preference. For example:"
   ]
  },
  {
   "cell_type": "raw",
   "metadata": {},
   "source": [
    "#include <iostream>\n",
    "using namespace std;\n",
    " \n",
    "// Global variable declaration:\n",
    "int g = 20;\n",
    " \n",
    "int main () {\n",
    "   // Local variable declaration:\n",
    "   int g = 10;\n",
    " \n",
    "   cout << g;\n",
    " \n",
    "   return 0;\n",
    "}"
   ]
  },
  {
   "attachments": {
    "Table3.png": {
     "image/png": "[encoded data removed]"
    }
   },
   "cell_type": "markdown",
   "metadata": {},
   "source": [
    "##### Variable Initializer\n",
    "\n",
    "When a local variable is defined, it is not initialized by the system, you must initialize it yourself. Global variables are initialized automatically by the system when you define them as follows:\n",
    "\n",
    "![Table3.png](attachment:Table3.png)\n",
    "\n",
    "Note: It is a good programming practice to initialize variables properly, otherwise sometimes program would produce unexpected result."
   ]
  },
  {
   "cell_type": "markdown",
   "metadata": {},
   "source": [
    "                                    <intentional space> "
   ]
  },
  {
   "cell_type": "markdown",
   "metadata": {},
   "source": [
    "### Enumerated Types\n",
    "\n",
    "An enumerated type declares an optional type name and a set of zero or more identifiers that can be used as values of the type. Each enumerator is a constant whose type is the enumeration.\n",
    "\n",
    "Creating an enumeration requires the use of the keyword enum. The general form of an enumeration type is:"
   ]
  },
  {
   "cell_type": "raw",
   "metadata": {},
   "source": [
    "enum enum-name { \n",
    "list of labeled values separated by commas \n",
    "};\n",
    "\n",
    "enum Season {\n",
    "Spring, Summer, Fall, Winter\n",
    "};"
   ]
  },
  {
   "cell_type": "markdown",
   "metadata": {},
   "source": [
    "When should we use enu,?\n",
    "* When we want to create our own data type\n",
    "* Group list of related pieces of information under a label\n",
    "* The value in the list cannot be changed\n",
    "\n",
    "Comparing to using Arrays instead of Enum, Arrays are:\n",
    "* Arrays value can be changed\n",
    "* We use a pre defined datatype in Arrays\n",
    "\n",
    "To use enum statement, say we want to create a variable name 'thisSeason':"
   ]
  },
  {
   "cell_type": "raw",
   "metadata": {},
   "source": [
    "Season thisSeason = Summer;"
   ]
  },
  {
   "cell_type": "markdown",
   "metadata": {},
   "source": [
    "##### Full code:"
   ]
  },
  {
   "cell_type": "raw",
   "metadata": {},
   "source": [
    "#include <iostream>\n",
    "\n",
    "enum Season {\n",
    "      SPRING, SUMMER, FALL, WINTER\n",
    "};\n",
    "\n",
    "int main() {\n",
    "    Season thisSeason = SUMMER;\n",
    "    if(thisSeason == SUMMER) {\n",
    "        std::cout<< \"The weather is hot outside\"<< std::endl;\n",
    "    } /* End of if(thisSeason == SUMMER) */\n",
    "    else {\n",
    "        std::cout<< \"The weather is cold outside\" <<std::endl;\n",
    "    }\n",
    "   return 0;\n",
    "} /*End of int main */"
   ]
  },
  {
   "cell_type": "markdown",
   "metadata": {},
   "source": [
    "However, SPRING, SUMMER, FALL, and WINTER are not strings or set of char but are integers by default which holds value 0, 1, 2, 3 in order.\n",
    "\n",
    "So\n",
    "\n",
    "SPRING = 0\n",
    "SUMMER = 1\n",
    "FALL = 2\n",
    "WINTER = 3\n",
    "\n",
    "To check that: "
   ]
  },
  {
   "cell_type": "raw",
   "metadata": {},
   "source": [
    "std::cout<<SPRING<< std::endl;"
   ]
  },
  {
   "cell_type": "markdown",
   "metadata": {},
   "source": [
    "The thing is the values in the enum are followed with the next integer. We can manually set all the values by assigning values to them to prevent that."
   ]
  },
  {
   "cell_type": "markdown",
   "metadata": {},
   "source": [
    "##### Full code:"
   ]
  },
  {
   "cell_type": "raw",
   "metadata": {},
   "source": [
    "#include <iostream>\n",
    "\n",
    "enum Season {\n",
    "      SPRING=13, SUMMER=16, FALL, WINTER=17\n",
    "};\n",
    "\n",
    "int main() {\n",
    "    Season thisSeason = SUMMER;\n",
    "    if(thisSeason == SUMMER) {\n",
    "        std::cout<< \"The weather is hot outside\"<< std::endl;\n",
    "    } /* End of if(thisSeason == SUMMER) */\n",
    "    else {\n",
    "        std::cout<< \"The weather is cold outside\" <<std::endl;\n",
    "    }\n",
    "   return 0;\n",
    "} /*End of int main */"
   ]
  },
  {
   "cell_type": "markdown",
   "metadata": {},
   "source": [
    "Here FALL = 17 and WINTER = 17, since it by default FALL will be assigned to the next integer next to 16 and WINTER is manually assigned to 17. "
   ]
  },
  {
   "cell_type": "markdown",
   "metadata": {},
   "source": [
    "                                    <intentional space> "
   ]
  },
  {
   "cell_type": "markdown",
   "metadata": {},
   "source": [
    "### Literals\n",
    "\n",
    "Constants refer to fixed values that the program may not alter and they are called literals.\n",
    "\n",
    "Constants can be of any of the basic data types and can be divided into Integer Numerals, Floating-Point Numerals, Characters, Strings and Boolean Values.\n",
    "\n",
    "Again, constants are treated just like regular variables except that their values cannot be modified after their definition.\n",
    "\n",
    "##### Prefix\n",
    "An integer literal can be a decimal, octal, or hexadecimal constant. A prefix specifies the base or radix: 0x or 0X for hexadecimal, 0 for octal, and nothing for decimal.\n",
    "\n",
    "##### Suffix\n",
    "An integer literal can also have a suffix that is a combination of U and L, for unsigned and long, respectively. The suffix can be uppercase or lowercase and can be in any order."
   ]
  },
  {
   "cell_type": "markdown",
   "metadata": {},
   "source": [
    "Here are some examples of integer literals"
   ]
  },
  {
   "cell_type": "raw",
   "metadata": {},
   "source": [
    "212         // Legal\n",
    "215u        // Legal\n",
    "0xFeeL      // Legal\n",
    "078         // Illegal: 8 is not an octal digit\n",
    "032UU       // Illegal: cannot repeat a suffix"
   ]
  },
  {
   "cell_type": "markdown",
   "metadata": {},
   "source": [
    "##### Floating-point Literals\n",
    "A floating-point literal has an integer part, a decimal point, a fractional part, and an exponent part. You can represent floating point literals either in decimal form or exponential form.\n",
    "\n",
    "While representing using decimal form, you must include the decimal point, the exponent, or both and while representing using exponential form, you must include the integer part, the fractional part, or both. The signed exponent is introduced by e or E.\n",
    "\n",
    "Here are some examples of floating-point literals"
   ]
  },
  {
   "cell_type": "raw",
   "metadata": {},
   "source": [
    "3.14159       // Legal\n",
    "314159E-5L    // Legal\n",
    "510E          // Illegal: incomplete exponent\n",
    "210f          // Illegal: no decimal or exponent\n",
    ".e55          // Illegal: missing integer or fraction"
   ]
  },
  {
   "attachments": {
    "Table4.PNG": {
     "image/png": "[encoded data removed]"
    }
   },
   "cell_type": "markdown",
   "metadata": {},
   "source": [
    "##### Boolean Literals\n",
    "There are two Boolean literals and they are part of standard C++ keywords:\n",
    "* A value of true representing true.\n",
    "* A value of false representing false.\n",
    "You should not consider the value of true equal to 1 and value of false equal to 0.\n",
    "    \n",
    "##### Character Literals\n",
    "Character literals are enclosed in single quotes. If the literal begins with L (uppercase only), it is a wide character literal (e.g., L'x') and should be stored in wchar_t type of variable . Otherwise, it is a narrow character literal (e.g., 'x') and can be stored in a simple variable of char type. A character literal can be a plain character (e.g., 'x'), an escape sequence (e.g., '\\t'), or a universal character (e.g., '\\u02C0'). There are certain characters in C++ when they are preceded by a backslash they will have special meaning and they are used to represent like newline (\\n) or tab (\\t). Here, you have a list of some of such escape sequence codes.\n",
    "\n",
    "![Table4.PNG](attachment:Table4.PNG)"
   ]
  },
  {
   "cell_type": "raw",
   "metadata": {},
   "source": [
    "#include <iostream>\n",
    "using namespace std;\n",
    "\n",
    "int main() {\n",
    "   cout << \"Hello\\tWorld\\n\\n\";\n",
    "   return 0;\n",
    "}"
   ]
  },
  {
   "cell_type": "markdown",
   "metadata": {},
   "source": [
    "##### String Literals\n",
    "String literals are enclosed in double quotes. A string contains characters that are similar to character literals: plain characters, escape sequences, and universal characters.\n",
    "\n",
    "You can break a long line into multiple lines using string literals and separate them using whitespaces.\n",
    "\n",
    "Here are some examples of string literals. All the three forms are identical strings."
   ]
  },
  {
   "cell_type": "raw",
   "metadata": {},
   "source": [
    "std::cout << \"hello, dear\\n\"\n",
    "\n",
    "\"hello, \\\n",
    "\n",
    "dear\\n\" \n",
    "\n",
    "\"hello, \" \"d\" \"ear\" << std::endl;"
   ]
  },
  {
   "cell_type": "markdown",
   "metadata": {},
   "source": [
    "There are two simple ways in C++ to define constants:\n",
    "* Using #define preprocessor.\n",
    "* Using const keyword.\n",
    "\n",
    "##### Define"
   ]
  },
  {
   "cell_type": "raw",
   "metadata": {},
   "source": [
    "#define identifier value"
   ]
  },
  {
   "cell_type": "raw",
   "metadata": {},
   "source": [
    "#include <iostream>\n",
    "using namespace std;\n",
    "\n",
    "#define LENGTH 10   \n",
    "#define WIDTH  5\n",
    "#define NEWLINE '\\n'\n",
    "\n",
    "int main() {\n",
    "   int area;  \n",
    "   \n",
    "   area = LENGTH * WIDTH;\n",
    "   cout << area;\n",
    "   cout << NEWLINE;\n",
    "   return 0;\n",
    "}"
   ]
  },
  {
   "cell_type": "markdown",
   "metadata": {},
   "source": [
    "##### const "
   ]
  },
  {
   "cell_type": "raw",
   "metadata": {},
   "source": [
    "const type variable = value;"
   ]
  },
  {
   "cell_type": "raw",
   "metadata": {},
   "source": [
    "#include <iostream>\n",
    "using namespace std;\n",
    "\n",
    "int main() {\n",
    "   const int  LENGTH = 10;\n",
    "   const int  WIDTH  = 5;\n",
    "   const char NEWLINE = '\\n';\n",
    "   int area;  \n",
    "   \n",
    "   area = LENGTH * WIDTH;\n",
    "   cout << area;\n",
    "   cout << NEWLINE;\n",
    "   return 0;\n",
    "}"
   ]
  },
  {
   "cell_type": "markdown",
   "metadata": {},
   "source": [
    "Note: that it is a good programming practice to define constants in CAPITALS."
   ]
  },
  {
   "cell_type": "markdown",
   "metadata": {},
   "source": [
    "                                    <intentional space> "
   ]
  },
  {
   "cell_type": "markdown",
   "metadata": {},
   "source": [
    "### Modifiers\n",
    "\n",
    "C++ allows the char, int, and double data types to have modifiers preceding them. A modifier is used to alter the meaning of the base type so that it more precisely fits the needs of various situations.\n",
    "\n",
    "The data type modifiers are listed here:\n",
    "* signed\n",
    "* unsigned\n",
    "* long\n",
    "* short\n",
    "\n",
    "The modifiers signed, unsigned, long, and short can be applied to integer base types. In addition, signed and unsigned can be applied to char, and long can be applied to double.\n",
    "\n",
    "The modifiers signed and unsigned can also be used as prefix to long or short modifiers. For example, unsigned long int.\n",
    "\n",
    "C++ allows a shorthand notation for declaring unsigned, short, or long integers. You can simply use the word unsigned, short, or long, without int. It automatically implies int. For example, the following two statements both declare unsigned integer variables.\n",
    "\n",
    "To understand the difference between the way signed and unsigned integer modifiers are interpreted by C++, you should run the following short program"
   ]
  },
  {
   "cell_type": "raw",
   "metadata": {},
   "source": [
    "#include <iostream>\n",
    "using namespace std;\n",
    " \n",
    "/* This program shows the difference between\n",
    "   * signed and unsigned integers.\n",
    "*/\n",
    "int main() {\n",
    "   short int i;           // a signed short integer\n",
    "   short unsigned int j;  // an unsigned short integer\n",
    "\n",
    "   j = 50000;\n",
    "\n",
    "   i = j;\n",
    "   cout << i << \" \" << j;\n",
    "\n",
    "   return 0;\n",
    "}"
   ]
  },
  {
   "cell_type": "markdown",
   "metadata": {},
   "source": [
    "                                    <intentional space> "
   ]
  },
  {
   "attachments": {
    "Table5.PNG": {
     "image/png": "[encoded data removed]"
    }
   },
   "cell_type": "markdown",
   "metadata": {},
   "source": [
    "### Qualifiers\n",
    "\n",
    "The type qualifiers provide additional information about the variables they precede.\n",
    "\n",
    "![Table5.PNG](attachment:Table5.PNG)"
   ]
  },
  {
   "cell_type": "markdown",
   "metadata": {},
   "source": [
    "                                    <intentional space> "
   ]
  },
  {
   "cell_type": "markdown",
   "metadata": {},
   "source": [
    "### Storage Classes\n",
    "\n",
    "A storage class defines the scope (visibility) and life-time of variables and/or functions within a C++ Program. These specifiers precede the type that they modify. There are following storage classes, which can be used in a C++ Program\n",
    "\n",
    "* auto\n",
    "* register\n",
    "* static\n",
    "* extern\n",
    "* mutable"
   ]
  },
  {
   "cell_type": "markdown",
   "metadata": {},
   "source": [
    "##### auto\n",
    "The auto storage class is the default storage class for all local variables."
   ]
  },
  {
   "cell_type": "raw",
   "metadata": {},
   "source": [
    "{\n",
    "   int mount;\n",
    "   auto int month;\n",
    "}"
   ]
  },
  {
   "cell_type": "markdown",
   "metadata": {},
   "source": [
    "The example above defines two variables with the same storage class, auto can only be used within functions, i.e., local variables."
   ]
  },
  {
   "cell_type": "markdown",
   "metadata": {},
   "source": [
    "##### register\n",
    "The register storage class is used to define local variables that should be stored in a register instead of RAM. This means that the variable has a maximum size equal to the register size (usually one word) and can't have the unary '&' operator applied to it (as it does not have a memory location)."
   ]
  },
  {
   "cell_type": "raw",
   "metadata": {},
   "source": [
    "{\n",
    "   register int  miles;\n",
    "}"
   ]
  },
  {
   "cell_type": "markdown",
   "metadata": {},
   "source": [
    "The register should only be used for variables that require quick access such as counters. It should also be noted that defining 'register' does not mean that the variable will be stored in a register. It means that it MIGHT be stored in a register depending on hardware and implementation restrictions."
   ]
  },
  {
   "cell_type": "markdown",
   "metadata": {},
   "source": [
    "##### static\n",
    "The static storage class instructs the compiler to keep a local variable in existence during the life-time of the program instead of creating and destroying it each time it comes into and goes out of scope. Therefore, making local variables static allows them to maintain their values between function calls.\n",
    "\n",
    "The static modifier may also be applied to global variables. When this is done, it causes that variable's scope to be restricted to the file in which it is declared.\n",
    "\n",
    "In C++, when static is used on a class data member, it causes only one copy of that member to be shared by all objects of its class."
   ]
  },
  {
   "cell_type": "raw",
   "metadata": {},
   "source": [
    "#include <iostream>\n",
    " \n",
    "// Function declaration\n",
    "void func(void);\n",
    " \n",
    "static int count = 10; /* Global variable */\n",
    " \n",
    "main() {\n",
    "   while(count--) {\n",
    "      func();\n",
    "   }\n",
    "   \n",
    "   return 0;\n",
    "}\n",
    "\n",
    "// Function definition\n",
    "void func( void ) {\n",
    "   static int i = 5; // local static variable\n",
    "   i++;\n",
    "   std::cout << \"i is \" << i ;\n",
    "   std::cout << \" and count is \" << count << std::endl;\n",
    "}"
   ]
  },
  {
   "cell_type": "markdown",
   "metadata": {},
   "source": [
    "That is, the static class is like another modifier for a variable. We can have a static local variable or static global variable. Global variable has lifetime equal to the lifetime of the program itself. And making a variable static makes a variable lifetime equal to the program itself whether its a local or a global variable. But static local variables are still local in nature, that is, the variables are not recognized outside the function where it was defined and initialized. \n",
    "\n",
    "So what is the point of having static global variables? If global variables already have a lifetime equal to the program itself? \n",
    "\n",
    "Static global variable renders variable local to the file because Static variables are not accessible by other files using extern keywords."
   ]
  },
  {
   "cell_type": "markdown",
   "metadata": {},
   "source": [
    "##### extern\n",
    "\n",
    "The extern storage class is used to give a reference of a global variable that is visible to ALL the program files. When you use 'extern' the variable cannot be initialized as all it does is point the variable name at a storage location that has been previously defined.\n",
    "\n",
    "When you have multiple files and you define a global variable or function, which will be used in other files also, then extern will be used in another file to give reference of defined variable or function. Just for understanding extern is used to declare a global variable or function in another file.\n",
    "\n",
    "The extern modifier is most commonly used when there are two or more files sharing the same global variables or functions as explained below."
   ]
  },
  {
   "cell_type": "markdown",
   "metadata": {},
   "source": [
    "##### First code:"
   ]
  },
  {
   "cell_type": "raw",
   "metadata": {},
   "source": [
    "#include <iostream>\n",
    "int count ;\n",
    "extern void write_extern();\n",
    " \n",
    "main() {\n",
    "   count = 5;\n",
    "   write_extern();\n",
    "}"
   ]
  },
  {
   "cell_type": "markdown",
   "metadata": {},
   "source": [
    "##### Second code:"
   ]
  },
  {
   "cell_type": "raw",
   "metadata": {},
   "source": [
    "#include <iostream>\n",
    "\n",
    "extern int count;\n",
    "\n",
    "void write_extern(void) {\n",
    "   std::cout << \"Count is \" << count << std::endl;\n",
    "}"
   ]
  },
  {
   "cell_type": "markdown",
   "metadata": {},
   "source": [
    "Here, extern keyword is being used to declare count in another file."
   ]
  },
  {
   "cell_type": "markdown",
   "metadata": {},
   "source": [
    "##### mutable\n",
    "The mutable specifier applies only to class objects, which are discussed later in this tutorial. It allows a member of an object to override const member function. That is, a mutable member can be modified by a const member function."
   ]
  },
  {
   "cell_type": "markdown",
   "metadata": {},
   "source": [
    "                                    <intentional space> "
   ]
  },
  {
   "cell_type": "markdown",
   "metadata": {},
   "source": [
    "### Operators\n",
    "\n",
    "An operator is a symbol that tells the compiler to perform specific mathematical or logical manipulations. C++ is rich in built-in operators and provide the following types of operators:\n",
    "\n",
    "* Arithmetic Operators\n",
    "* Relational Operators\n",
    "* Logical Operators\n",
    "* Bitwise Operators\n",
    "* Assignment Operators\n",
    "* Misc Operators"
   ]
  },
  {
   "cell_type": "markdown",
   "metadata": {},
   "source": [
    "##### Arithmetic\n",
    "![Table6.PNG](attachment:Table6.PNG)"
   ]
  },
  {
   "attachments": {
    "Table7.PNG": {
     "image/png": "[encoded data removed]"
    }
   },
   "cell_type": "markdown",
   "metadata": {},
   "source": [
    "##### Relational\n",
    "![Table7.PNG](attachment:Table7.PNG)"
   ]
  },
  {
   "attachments": {
    "Table8.PNG": {
     "image/png": "[encoded data removed]"
    }
   },
   "cell_type": "markdown",
   "metadata": {},
   "source": [
    "##### Logical\n",
    "![Table8.PNG](attachment:Table8.PNG)"
   ]
  },
  {
   "attachments": {
    "Table9.PNG": {
     "image/png": "[encoded data removed]"
    }
   },
   "cell_type": "markdown",
   "metadata": {},
   "source": [
    "##### Bitwise\n",
    "![Table9.PNG](attachment:Table9.PNG)"
   ]
  },
  {
   "attachments": {
    "Table10.PNG": {
     "image/png": "[encoded data removed]"
    }
   },
   "cell_type": "markdown",
   "metadata": {},
   "source": [
    "##### Assignment Operators\n",
    "![Table10.PNG](attachment:Table10.PNG)"
   ]
  },
  {
   "attachments": {
    "Table11.PNG": {
     "image/png": "[encoded data removed]"
    }
   },
   "cell_type": "markdown",
   "metadata": {},
   "source": [
    "##### Misc Operators\n",
    "![Table11.PNG](attachment:Table11.PNG)"
   ]
  },
  {
   "cell_type": "markdown",
   "metadata": {},
   "source": [
    "##### ?\n",
    "'?' can be used to replace if...else statements. It has the following general form:"
   ]
  },
  {
   "cell_type": "raw",
   "metadata": {},
   "source": [
    "Exp1 ? Exp2 : Exp3;"
   ]
  },
  {
   "cell_type": "markdown",
   "metadata": {},
   "source": [
    "Exp1, Exp2, and Exp3 are expressions. Notice the use and placement of the colon.\n",
    "\n",
    "The value of a ‘?’ expression is determined like this: Exp1 is evaluated. If it is true, then Exp2 is evaluated and becomes the value of the entire ‘?’ expression. If Exp1 is false, then Exp3 is evaluated and its value becomes the value of the expression."
   ]
  },
  {
   "cell_type": "markdown",
   "metadata": {},
   "source": [
    "                                    <intentional space> "
   ]
  },
  {
   "cell_type": "markdown",
   "metadata": {},
   "source": [
    "### Functions\n",
    "\n",
    "A function is a group of statements that together perform a task. Every C++ program has at least one function, which is main(), and all the most trivial programs can define additional functions.\n",
    "\n",
    "You can divide up your code into separate functions. How you divide up your code among different functions is up to you, but logically the division usually is such that each function performs a specific task.\n",
    "\n",
    "A function declaration tells the compiler about a function's name, return type, and parameters. A function definition provides the actual body of the function.\n",
    "\n",
    "The C++ standard library provides numerous built-in functions that your program can call. For example, function strcat() to concatenate two strings, function memcpy() to copy one memory location to another location and many more functions.\n",
    "\n",
    "A function is known with various names like a method or a sub-routine or a procedure etc."
   ]
  },
  {
   "cell_type": "markdown",
   "metadata": {},
   "source": [
    "##### Defining a Function\n",
    "The general form of a C++ function definition is as follows:"
   ]
  },
  {
   "cell_type": "raw",
   "metadata": {},
   "source": [
    "return_type function_name( parameter list ) {\n",
    "   body of the function\n",
    "}"
   ]
  },
  {
   "cell_type": "markdown",
   "metadata": {},
   "source": [
    "A C++ function definition consists of a function header and a function body. Here are all the parts of a function −\n",
    "\n",
    "* Return Type − A function may return a value. The return_type is the data type of the value the function returns. Some functions perform the desired operations without returning a value. In this case, the return_type is the keyword void.\n",
    "\n",
    "* Function Name − This is the actual name of the function. The function name and the parameter list together constitute the function signature.\n",
    "\n",
    "* Parameters − A parameter is like a placeholder. When a function is invoked, you pass a value to the parameter. This value is referred to as actual parameter or argument. The parameter list refers to the type, order, and number of the parameters of a function. Parameters are optional; that is, a function may contain no parameters.\n",
    "\n",
    "* Function Body − The function body contains a collection of statements that define what the function does."
   ]
  },
  {
   "cell_type": "raw",
   "metadata": {},
   "source": [
    "// function returning the max between two numbers\n",
    " \n",
    "int max(int num1, int num2) {\n",
    "   // local variable declaration\n",
    "   int result;\n",
    " \n",
    "   if (num1 > num2)\n",
    "      result = num1;\n",
    "   else\n",
    "      result = num2;\n",
    " \n",
    "   return result; \n",
    "}"
   ]
  },
  {
   "cell_type": "markdown",
   "metadata": {},
   "source": [
    "##### Function Declarations\n",
    "\n",
    "A function declaration tells the compiler about a function name and how to call the function. The actual body of the function can be defined separately.\n",
    "\n",
    "A function declaration has the following parts:"
   ]
  },
  {
   "cell_type": "raw",
   "metadata": {},
   "source": [
    "return_type function_name( parameter list );"
   ]
  },
  {
   "cell_type": "markdown",
   "metadata": {},
   "source": [
    "For the above defined function max(), following is the function declaration:"
   ]
  },
  {
   "cell_type": "raw",
   "metadata": {},
   "source": [
    "int max(int num1, int num2);"
   ]
  },
  {
   "cell_type": "markdown",
   "metadata": {},
   "source": [
    "Parameter names are not important in function declaration only their type is required, so following is also valid declaration"
   ]
  },
  {
   "cell_type": "raw",
   "metadata": {},
   "source": [
    "int max(int, int);"
   ]
  },
  {
   "cell_type": "markdown",
   "metadata": {},
   "source": [
    "Function declaration is required when you define a function in one source file and you call that function in another file. In such case, you should declare the function at the top of the file calling the function."
   ]
  },
  {
   "cell_type": "markdown",
   "metadata": {},
   "source": [
    "##### Calling a Function\n",
    "\n",
    "While creating a C++ function, you give a definition of what the function has to do. To use a function, you will have to call or invoke that function.\n",
    "\n",
    "When a program calls a function, program control is transferred to the called function. A called function performs defined task and when it’s return statement is executed or when its function-ending closing brace is reached, it returns program control back to the main program.\n",
    "\n",
    "To call a function, you simply need to pass the required parameters along with function name, and if function returns a value, then you can store returned value. For example"
   ]
  },
  {
   "cell_type": "raw",
   "metadata": {},
   "source": [
    "#include <iostream>\n",
    "using namespace std;\n",
    " \n",
    "// function declaration\n",
    "int max(int num1, int num2);\n",
    " \n",
    "int main () {\n",
    "   // local variable declaration:\n",
    "   int a = 100;\n",
    "   int b = 200;\n",
    "   int ret;\n",
    " \n",
    "   // calling a function to get max value.\n",
    "   ret = max(a, b);\n",
    "   cout << \"Max value is : \" << ret << endl;\n",
    " \n",
    "   return 0;\n",
    "}\n",
    " \n",
    "// function returning the max between two numbers\n",
    "int max(int num1, int num2) {\n",
    "   // local variable declaration\n",
    "   int result;\n",
    " \n",
    "   if (num1 > num2)\n",
    "      result = num1;\n",
    "   else\n",
    "      result = num2;\n",
    " \n",
    "   return result; \n",
    "}"
   ]
  },
  {
   "attachments": {
    "Table12.PNG": {
     "image/png": "[encoded data removed]"
    }
   },
   "cell_type": "markdown",
   "metadata": {},
   "source": [
    "##### Function Arguments\n",
    "\n",
    "If a function is to use arguments, it must declare variables that accept the values of the arguments. These variables are called the formal parameters of the function.\n",
    "\n",
    "The formal parameters behave like other local variables inside the function and are created upon entry into the function and destroyed upon exit.\n",
    "\n",
    "While calling a function, there are two ways that arguments can be passed to a function\n",
    "\n",
    "![Table12.PNG](attachment:Table12.PNG)\n",
    "\n",
    "By default, C++ uses call by value to pass arguments. In general, this means that code within a function cannot alter the arguments used to call the function and above mentioned example while calling max() function used the same method."
   ]
  },
  {
   "cell_type": "markdown",
   "metadata": {},
   "source": [
    "##### Default Values for Parameters\n",
    "\n",
    "When you define a function, you can specify a default value for each of the last parameters. This value will be used if the corresponding argument is left blank when calling to the function.\n",
    "\n",
    "This is done by using the assignment operator and assigning values for the arguments in the function definition. If a value for that parameter is not passed when the function is called, the default given value is used, but if a value is specified, this default value is ignored and the passed value is used instead. Consider the following example:"
   ]
  },
  {
   "cell_type": "raw",
   "metadata": {},
   "source": [
    "#include <iostream>\n",
    "using namespace std;\n",
    " \n",
    "int sum(int a, int b = 20) {\n",
    "   int result;\n",
    "   result = a + b;\n",
    "  \n",
    "   return (result);\n",
    "}\n",
    "int main () {\n",
    "   // local variable declaration:\n",
    "   int a = 100;\n",
    "   int b = 200;\n",
    "   int result;\n",
    " \n",
    "   // calling a function to add the values.\n",
    "   result = sum(a, b);\n",
    "   cout << \"Total value is :\" << result << endl;\n",
    "\n",
    "   // calling a function again as follows.\n",
    "   result = sum(a);\n",
    "   cout << \"Total value is :\" << result << endl;\n",
    " \n",
    "   return 0;\n",
    "}"
   ]
  },
  {
   "cell_type": "markdown",
   "metadata": {},
   "source": [
    "                                    <intentional space> "
   ]
  },
  {
   "cell_type": "markdown",
   "metadata": {},
   "source": [
    "### Arrays\n",
    "\n",
    "C++ provides a data structure, the array, which stores a fixed-size sequential collection of elements of the same type. An array is used to store a collection of data, but it is often more useful to think of an array as a collection of variables of the same type.\n",
    "\n",
    "Instead of declaring individual variables, such as number0, number1, ..., and number99, you declare one array variable such as numbers and use numbers[0], numbers[1], and ..., numbers[99] to represent individual variables. A specific element in an array is accessed by an index.\n",
    "\n",
    "All arrays consist of contiguous memory locations. The lowest address corresponds to the first element and the highest address to the last element."
   ]
  },
  {
   "cell_type": "markdown",
   "metadata": {},
   "source": [
    "##### Declaring Arrays\n",
    "To declare an array in C++, the programmer specifies the type of the elements and the number of elements required by an array as follows:"
   ]
  },
  {
   "cell_type": "raw",
   "metadata": {},
   "source": [
    "type arrayName [ arraySize ];"
   ]
  },
  {
   "cell_type": "markdown",
   "metadata": {},
   "source": [
    "This is called a single-dimension array. The arraySize must be an integer constant greater than zero and type can be any valid C++ data type. For example, to declare a 10-element array called balance of type double, use this statement "
   ]
  },
  {
   "cell_type": "raw",
   "metadata": {},
   "source": [
    "double balance[10];"
   ]
  },
  {
   "cell_type": "markdown",
   "metadata": {},
   "source": [
    "##### Initializing Arrays\n",
    "\n",
    "You can initialize C++ array elements either one by one or using a single statement as follows:"
   ]
  },
  {
   "cell_type": "raw",
   "metadata": {},
   "source": [
    "double balance[5] = {1000.0, 2.0, 3.4, 17.0, 50.0};"
   ]
  },
  {
   "cell_type": "markdown",
   "metadata": {},
   "source": [
    "The number of values between braces { } can not be larger than the number of elements that we declare for the array between square brackets [ ]."
   ]
  },
  {
   "cell_type": "markdown",
   "metadata": {},
   "source": [
    "##### Accessing Array Elements\n",
    "\n",
    "An element is accessed by indexing the array name. This is done by placing the index of the element within square brackets after the name of the array. For example:"
   ]
  },
  {
   "cell_type": "raw",
   "metadata": {},
   "source": [
    "double salary = balance[9];"
   ]
  },
  {
   "cell_type": "markdown",
   "metadata": {},
   "source": [
    "The above statement will take 10th element from the array and assign the value to salary variable. Following is an example, which will use all the above-mentioned three concepts viz. declaration, assignment and accessing arrays:"
   ]
  },
  {
   "cell_type": "markdown",
   "metadata": {},
   "source": [
    "#include <iostream>\n",
    "using namespace std;\n",
    " \n",
    "#include <iomanip>\n",
    "using std::setw;\n",
    " \n",
    "int main () {\n",
    "\n",
    "   int n[10]; // n is an array of 10 integers\n",
    " \n",
    "   // initialize elements of array n to 0          \n",
    "   for ( int i = 0; i < 10; i++ ) {\n",
    "      n[i] = i + 100; // set element at location i to i + 100\n",
    "   }\n",
    "   cout << \"Element\" << setw(13) << \"Value\" << endl;\n",
    " \n",
    "   // output each array element's value                      \n",
    "   for ( int j = 0; j < 10; j++ ) {\n",
    "      cout << setw(7)<< j << setw(13) << n[j] << endl;\n",
    "   }\n",
    " \n",
    "   return 0;\n",
    "}"
   ]
  },
  {
   "cell_type": "markdown",
   "metadata": {},
   "source": [
    "                                    <intentional space> "
   ]
  },
  {
   "cell_type": "markdown",
   "metadata": {},
   "source": [
    "### Strings\n",
    "\n",
    "The C-style character string originated within the C language and continues to be supported within C++. This string is actually a one-dimensional array of characters which is terminated by a null character '\\0'. Thus a null-terminated string contains the characters that comprise the string followed by a null.\n",
    "\n",
    "The following declaration and initialization create a string consisting of the word \"Hello\". To hold the null character at the end of the array, the size of the character array containing the string is one more than the number of characters in the word \"Hello.\""
   ]
  },
  {
   "cell_type": "raw",
   "metadata": {},
   "source": [
    "char greeting[6] = {'H', 'e', 'l', 'l', 'o', '\\0'};"
   ]
  },
  {
   "cell_type": "markdown",
   "metadata": {},
   "source": [
    "If you follow the rule of array initialization, then you can write the above statement as follows:"
   ]
  },
  {
   "cell_type": "raw",
   "metadata": {},
   "source": [
    "char greeting[] = \"Hello\";"
   ]
  },
  {
   "attachments": {
    "Table13.PNG": {
     "image/png": "[encoded data removed]"
    }
   },
   "cell_type": "markdown",
   "metadata": {},
   "source": [
    "Following is the memory presentation of above defined string in C/C++ :\n",
    "\n",
    "![Table13.PNG](attachment:Table13.PNG)\n",
    "\n",
    "Actually, you do not place the null character at the end of a string constant. The C++ compiler automatically places the '\\0' at the end of the string when it initializes the array. Let us try to print above-mentioned string."
   ]
  },
  {
   "attachments": {
    "Table14.PNG": {
     "image/png": "[encoded data removed]"
    }
   },
   "cell_type": "markdown",
   "metadata": {},
   "source": [
    "##### String Commands\n",
    "\n",
    "![Table14.PNG](attachment:Table14.PNG)"
   ]
  },
  {
   "cell_type": "raw",
   "metadata": {},
   "source": [
    "#include <iostream>\n",
    "#include <cstring>\n",
    "\n",
    "using namespace std;\n",
    "\n",
    "int main () {\n",
    "\n",
    "   char str1[10] = \"Hello\";\n",
    "   char str2[10] = \"World\";\n",
    "   char str3[10];\n",
    "   int  len ;\n",
    "\n",
    "   // copy str1 into str3\n",
    "   strcpy( str3, str1);\n",
    "   cout << \"strcpy( str3, str1) : \" << str3 << endl;\n",
    "\n",
    "   // concatenates str1 and str2\n",
    "   strcat( str1, str2);\n",
    "   cout << \"strcat( str1, str2): \" << str1 << endl;\n",
    "\n",
    "   // total lenghth of str1 after concatenation\n",
    "   len = strlen(str1);\n",
    "   cout << \"strlen(str1) : \" << len << endl;\n",
    "\n",
    "   return 0;\n",
    "}"
   ]
  },
  {
   "cell_type": "markdown",
   "metadata": {},
   "source": [
    "##### String Class\n",
    "\n",
    "The standard C++ library provides a string class type that supports all the operations mentioned above, additionally much more functionality. Let us check the following example:"
   ]
  },
  {
   "cell_type": "raw",
   "metadata": {},
   "source": [
    "#include <iostream>\n",
    "#include <string>\n",
    "\n",
    "using namespace std;\n",
    "\n",
    "int main () {\n",
    "\n",
    "   string str1 = \"Hello\";\n",
    "   string str2 = \"World\";\n",
    "   string str3;\n",
    "   int  len ;\n",
    "\n",
    "   // copy str1 into str3\n",
    "   str3 = str1;\n",
    "   cout << \"str3 : \" << str3 << endl;\n",
    "\n",
    "   // concatenates str1 and str2\n",
    "   str3 = str1 + str2;\n",
    "   cout << \"str1 + str2 : \" << str3 << endl;\n",
    "\n",
    "   // total length of str3 after concatenation\n",
    "   len = str3.size();\n",
    "   cout << \"str3.size() :  \" << len << endl;\n",
    "\n",
    "   return 0;\n",
    "}"
   ]
  },
  {
   "cell_type": "markdown",
   "metadata": {},
   "source": [
    "                                    <intentional space> "
   ]
  },
  {
   "cell_type": "markdown",
   "metadata": {},
   "source": [
    "### Pointers\n",
    "\n",
    "As you know every variable is a memory location and every memory location has its address defined which can be accessed using ampersand (&) operator which denotes an address in memory. Consider the following which will print the address of the variables defined."
   ]
  },
  {
   "cell_type": "raw",
   "metadata": {},
   "source": [
    "#include <iostream>\n",
    "\n",
    "using namespace std;\n",
    "int main () {\n",
    "   int  var1;\n",
    "   char var2[10];\n",
    "\n",
    "   cout << \"Address of var1 variable: \";\n",
    "   cout << &var1 << endl;\n",
    "\n",
    "   cout << \"Address of var2 variable: \";\n",
    "   cout << &var2 << endl;\n",
    "\n",
    "   return 0;\n",
    "}"
   ]
  },
  {
   "cell_type": "markdown",
   "metadata": {},
   "source": [
    "A pointer is a variable whose value is the address of another variable. Like any variable or constant, you must declare a pointer before you can work with it. The general form of a pointer variable declaration is:"
   ]
  },
  {
   "cell_type": "raw",
   "metadata": {},
   "source": [
    "type *var-name;"
   ]
  },
  {
   "cell_type": "markdown",
   "metadata": {},
   "source": [
    "Here, type is the pointer's base type; it must be a valid C++ type and var-name is the name of the pointer variable. The asterisk you used to declare a pointer is the same asterisk that you use for multiplication. However, in this statement the asterisk is being used to designate a variable as a pointer. Following are the valid pointer declaration:"
   ]
  },
  {
   "cell_type": "raw",
   "metadata": {},
   "source": [
    "int    *ip;    // pointer to an integer\n",
    "double *dp;    // pointer to a double\n",
    "float  *fp;    // pointer to a float\n",
    "char   *ch     // pointer to character"
   ]
  },
  {
   "cell_type": "markdown",
   "metadata": {},
   "source": [
    "The actual data type of the value of all pointers, whether integer, float, character, or otherwise, is the same, a long hexadecimal number that represents a memory address. The only difference between pointers of different data types is the data type of the variable or constant that the pointer points to."
   ]
  },
  {
   "cell_type": "markdown",
   "metadata": {},
   "source": [
    "##### Using Pointers\n",
    "\n",
    "*  We define a pointer variable.\n",
    "* Assign the address of a variable to a pointer.\n",
    "* Finally access the value at the address available in the pointer variable. This is done by using unary operator * that returns the value of the variable located at the address specified by its operand. "
   ]
  },
  {
   "cell_type": "raw",
   "metadata": {},
   "source": [
    "#include <iostream>\n",
    "\n",
    "using namespace std;\n",
    "\n",
    "int main () {\n",
    "   int  var = 20;   // actual variable declaration.\n",
    "   int  *ip;        // pointer variable \n",
    "\n",
    "   ip = &var;       // store address of var in pointer variable\n",
    "\n",
    "   cout << \"Value of var variable: \";\n",
    "   cout << var << endl;\n",
    "\n",
    "   // print the address stored in ip pointer variable\n",
    "   cout << \"Address stored in ip variable: \";\n",
    "   cout << ip << endl;\n",
    "\n",
    "   // access the value at the address available in pointer\n",
    "   cout << \"Value of *ip variable: \";\n",
    "   cout << *ip << endl;\n",
    "\n",
    "   return 0;\n",
    "}"
   ]
  },
  {
   "cell_type": "markdown",
   "metadata": {},
   "source": [
    "                                    <intentional space> "
   ]
  },
  {
   "cell_type": "markdown",
   "metadata": {},
   "source": [
    "### Pointers\n",
    "\n",
    "As you know every variable is a memory location and every memory location has its address defined which can be accessed using ampersand (&) operator which denotes an address in memory. Consider the following which will print the address of the variables defined."
   ]
  },
  {
   "cell_type": "code",
   "execution_count": null,
   "metadata": {},
   "outputs": [],
   "source": []
  },
  {
   "cell_type": "code",
   "execution_count": null,
   "metadata": {},
   "outputs": [],
   "source": []
  }
 ],
 "metadata": {
  "kernelspec": {
   "display_name": "Python 3",
   "language": "python",
   "name": "python3"
  },
  "language_info": {
   "codemirror_mode": {
    "name": "ipython",
    "version": 3
   },
   "file_extension": ".py",
   "mimetype": "text/x-python",
   "name": "python",
   "nbconvert_exporter": "python",
   "pygments_lexer": "ipython3",
   "version": "3.7.3"
  }
 },
 "nbformat": 4,
 "nbformat_minor": 2
}
